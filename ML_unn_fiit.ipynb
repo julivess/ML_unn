{
 "cells": [
  {
   "cell_type": "markdown",
   "id": "1a4d0e2d",
   "metadata": {},
   "source": [
    "# Уровень заработной платы"
   ]
  },
  {
   "cell_type": "markdown",
   "id": "92a2bd65",
   "metadata": {},
   "source": [
    "#### **Информация о данных**\n",
    "\n",
    "Используемый набор данных является выборкой из базы данных переписи населения 1994 года, сделанной Барри Беккером. Датасет содержит следующие признаки:\n",
    "\n",
    "1. **Возраст** (`age`): отражает возраст респондента (от 17 до 90 лет).\n",
    "2. **Рабочий класс** (`workclass`): отражает статус занятости респондента.\n",
    "3. **Оценка уникальности** (`fnlwgt`): отражает примерную оценку количества людей, которое представляет каждая строка данных.\n",
    "4. **Образование** (`education`): отражает уровень образования респондента.\n",
    "5. **Ступень образования** (`education-num`): отражает статус образования от дошкольного до докторантуры (от 1 до 16).\n",
    "6. **Семейное положение** (`marital-status`): отражает семейное положение респондента.\n",
    "7. **Сфера занятости** (`occupation`): отражает сферу занятости респондента.\n",
    "8. **Семейная роль** (`relationship`): отражает роль в семье респондента.\n",
    "9. **Раса** (`race`): отражает расовую принадлежность респондента.\n",
    "10. **Пол** (`sex`): отражает пол респондента (мужчина, женщина).\n",
    "11. **Прирост капитала** (`capital-gain`): отражает увеличение капитала у респондента.\n",
    "12. **Потеря капитала** (`capital-loss`): отражает уменьшение капитала у респондента.\n",
    "13. **Трудоспособность** (`hours-per-week`): отражает количество отработанных часов за неделю (от 1 до 99).\n",
    "14. **Страна рождения** (`native-country`): отражает страну, в которой родился респондент.\n",
    "15. **Зарплата** (`salary`): отражает уровень заработной платы респондента (<=50K, >50K).\n",
    "\n",
    "#### **Описание задачи**\n",
    "\n",
    "*Задача заключается в прогнозировании уровеня заработной платы.*\n",
    "\n",
    "В данной работе требуется проанализировать исходные данные, выяснить какие признаки оказывают наиболее сильное влияние на уровень заработной платы, применить различные алгоритмы классификации, которые смогут предсказывать уровень заработной платы по входным в данным.\n",
    "\n",
    "> Источник данных: https://www.kaggle.com/datasets/ayessa/salary-prediction-classification\n"
   ]
  },
  {
   "cell_type": "markdown",
   "id": "4edf6801",
   "metadata": {},
   "source": [
    "## **1. Чтение данных**"
   ]
  },
  {
   "cell_type": "code",
   "execution_count": 1,
   "id": "3872e51a",
   "metadata": {},
   "outputs": [],
   "source": [
    "import numpy as np\n",
    "import pandas as pd\n",
    "import matplotlib.pyplot as plt\n",
    "import seaborn as sb"
   ]
  },
  {
   "cell_type": "code",
   "execution_count": 2,
   "id": "42395456",
   "metadata": {},
   "outputs": [
    {
     "data": {
      "text/html": [
       "<div>\n",
       "<style scoped>\n",
       "    .dataframe tbody tr th:only-of-type {\n",
       "        vertical-align: middle;\n",
       "    }\n",
       "\n",
       "    .dataframe tbody tr th {\n",
       "        vertical-align: top;\n",
       "    }\n",
       "\n",
       "    .dataframe thead th {\n",
       "        text-align: right;\n",
       "    }\n",
       "</style>\n",
       "<table border=\"1\" class=\"dataframe\">\n",
       "  <thead>\n",
       "    <tr style=\"text-align: right;\">\n",
       "      <th></th>\n",
       "      <th>age</th>\n",
       "      <th>workclass</th>\n",
       "      <th>fnlwgt</th>\n",
       "      <th>education</th>\n",
       "      <th>education-num</th>\n",
       "      <th>marital-status</th>\n",
       "      <th>occupation</th>\n",
       "      <th>relationship</th>\n",
       "      <th>race</th>\n",
       "      <th>sex</th>\n",
       "      <th>capital-gain</th>\n",
       "      <th>capital-loss</th>\n",
       "      <th>hours-per-week</th>\n",
       "      <th>native-country</th>\n",
       "      <th>salary</th>\n",
       "    </tr>\n",
       "  </thead>\n",
       "  <tbody>\n",
       "    <tr>\n",
       "      <th>0</th>\n",
       "      <td>39</td>\n",
       "      <td>State-gov</td>\n",
       "      <td>77516</td>\n",
       "      <td>Bachelors</td>\n",
       "      <td>13</td>\n",
       "      <td>Never-married</td>\n",
       "      <td>Adm-clerical</td>\n",
       "      <td>Not-in-family</td>\n",
       "      <td>White</td>\n",
       "      <td>Male</td>\n",
       "      <td>2174</td>\n",
       "      <td>0</td>\n",
       "      <td>40</td>\n",
       "      <td>United-States</td>\n",
       "      <td>&lt;=50K</td>\n",
       "    </tr>\n",
       "    <tr>\n",
       "      <th>1</th>\n",
       "      <td>50</td>\n",
       "      <td>Self-emp-not-inc</td>\n",
       "      <td>83311</td>\n",
       "      <td>Bachelors</td>\n",
       "      <td>13</td>\n",
       "      <td>Married-civ-spouse</td>\n",
       "      <td>Exec-managerial</td>\n",
       "      <td>Husband</td>\n",
       "      <td>White</td>\n",
       "      <td>Male</td>\n",
       "      <td>0</td>\n",
       "      <td>0</td>\n",
       "      <td>13</td>\n",
       "      <td>United-States</td>\n",
       "      <td>&lt;=50K</td>\n",
       "    </tr>\n",
       "    <tr>\n",
       "      <th>2</th>\n",
       "      <td>38</td>\n",
       "      <td>Private</td>\n",
       "      <td>215646</td>\n",
       "      <td>HS-grad</td>\n",
       "      <td>9</td>\n",
       "      <td>Divorced</td>\n",
       "      <td>Handlers-cleaners</td>\n",
       "      <td>Not-in-family</td>\n",
       "      <td>White</td>\n",
       "      <td>Male</td>\n",
       "      <td>0</td>\n",
       "      <td>0</td>\n",
       "      <td>40</td>\n",
       "      <td>United-States</td>\n",
       "      <td>&lt;=50K</td>\n",
       "    </tr>\n",
       "    <tr>\n",
       "      <th>3</th>\n",
       "      <td>53</td>\n",
       "      <td>Private</td>\n",
       "      <td>234721</td>\n",
       "      <td>11th</td>\n",
       "      <td>7</td>\n",
       "      <td>Married-civ-spouse</td>\n",
       "      <td>Handlers-cleaners</td>\n",
       "      <td>Husband</td>\n",
       "      <td>Black</td>\n",
       "      <td>Male</td>\n",
       "      <td>0</td>\n",
       "      <td>0</td>\n",
       "      <td>40</td>\n",
       "      <td>United-States</td>\n",
       "      <td>&lt;=50K</td>\n",
       "    </tr>\n",
       "    <tr>\n",
       "      <th>4</th>\n",
       "      <td>28</td>\n",
       "      <td>Private</td>\n",
       "      <td>338409</td>\n",
       "      <td>Bachelors</td>\n",
       "      <td>13</td>\n",
       "      <td>Married-civ-spouse</td>\n",
       "      <td>Prof-specialty</td>\n",
       "      <td>Wife</td>\n",
       "      <td>Black</td>\n",
       "      <td>Female</td>\n",
       "      <td>0</td>\n",
       "      <td>0</td>\n",
       "      <td>40</td>\n",
       "      <td>Cuba</td>\n",
       "      <td>&lt;=50K</td>\n",
       "    </tr>\n",
       "    <tr>\n",
       "      <th>5</th>\n",
       "      <td>37</td>\n",
       "      <td>Private</td>\n",
       "      <td>284582</td>\n",
       "      <td>Masters</td>\n",
       "      <td>14</td>\n",
       "      <td>Married-civ-spouse</td>\n",
       "      <td>Exec-managerial</td>\n",
       "      <td>Wife</td>\n",
       "      <td>White</td>\n",
       "      <td>Female</td>\n",
       "      <td>0</td>\n",
       "      <td>0</td>\n",
       "      <td>40</td>\n",
       "      <td>United-States</td>\n",
       "      <td>&lt;=50K</td>\n",
       "    </tr>\n",
       "    <tr>\n",
       "      <th>6</th>\n",
       "      <td>49</td>\n",
       "      <td>Private</td>\n",
       "      <td>160187</td>\n",
       "      <td>9th</td>\n",
       "      <td>5</td>\n",
       "      <td>Married-spouse-absent</td>\n",
       "      <td>Other-service</td>\n",
       "      <td>Not-in-family</td>\n",
       "      <td>Black</td>\n",
       "      <td>Female</td>\n",
       "      <td>0</td>\n",
       "      <td>0</td>\n",
       "      <td>16</td>\n",
       "      <td>Jamaica</td>\n",
       "      <td>&lt;=50K</td>\n",
       "    </tr>\n",
       "    <tr>\n",
       "      <th>7</th>\n",
       "      <td>52</td>\n",
       "      <td>Self-emp-not-inc</td>\n",
       "      <td>209642</td>\n",
       "      <td>HS-grad</td>\n",
       "      <td>9</td>\n",
       "      <td>Married-civ-spouse</td>\n",
       "      <td>Exec-managerial</td>\n",
       "      <td>Husband</td>\n",
       "      <td>White</td>\n",
       "      <td>Male</td>\n",
       "      <td>0</td>\n",
       "      <td>0</td>\n",
       "      <td>45</td>\n",
       "      <td>United-States</td>\n",
       "      <td>&gt;50K</td>\n",
       "    </tr>\n",
       "    <tr>\n",
       "      <th>8</th>\n",
       "      <td>31</td>\n",
       "      <td>Private</td>\n",
       "      <td>45781</td>\n",
       "      <td>Masters</td>\n",
       "      <td>14</td>\n",
       "      <td>Never-married</td>\n",
       "      <td>Prof-specialty</td>\n",
       "      <td>Not-in-family</td>\n",
       "      <td>White</td>\n",
       "      <td>Female</td>\n",
       "      <td>14084</td>\n",
       "      <td>0</td>\n",
       "      <td>50</td>\n",
       "      <td>United-States</td>\n",
       "      <td>&gt;50K</td>\n",
       "    </tr>\n",
       "    <tr>\n",
       "      <th>9</th>\n",
       "      <td>42</td>\n",
       "      <td>Private</td>\n",
       "      <td>159449</td>\n",
       "      <td>Bachelors</td>\n",
       "      <td>13</td>\n",
       "      <td>Married-civ-spouse</td>\n",
       "      <td>Exec-managerial</td>\n",
       "      <td>Husband</td>\n",
       "      <td>White</td>\n",
       "      <td>Male</td>\n",
       "      <td>5178</td>\n",
       "      <td>0</td>\n",
       "      <td>40</td>\n",
       "      <td>United-States</td>\n",
       "      <td>&gt;50K</td>\n",
       "    </tr>\n",
       "  </tbody>\n",
       "</table>\n",
       "</div>"
      ],
      "text/plain": [
       "   age          workclass  fnlwgt   education  education-num  \\\n",
       "0   39          State-gov   77516   Bachelors             13   \n",
       "1   50   Self-emp-not-inc   83311   Bachelors             13   \n",
       "2   38            Private  215646     HS-grad              9   \n",
       "3   53            Private  234721        11th              7   \n",
       "4   28            Private  338409   Bachelors             13   \n",
       "5   37            Private  284582     Masters             14   \n",
       "6   49            Private  160187         9th              5   \n",
       "7   52   Self-emp-not-inc  209642     HS-grad              9   \n",
       "8   31            Private   45781     Masters             14   \n",
       "9   42            Private  159449   Bachelors             13   \n",
       "\n",
       "           marital-status          occupation    relationship    race  \\\n",
       "0           Never-married        Adm-clerical   Not-in-family   White   \n",
       "1      Married-civ-spouse     Exec-managerial         Husband   White   \n",
       "2                Divorced   Handlers-cleaners   Not-in-family   White   \n",
       "3      Married-civ-spouse   Handlers-cleaners         Husband   Black   \n",
       "4      Married-civ-spouse      Prof-specialty            Wife   Black   \n",
       "5      Married-civ-spouse     Exec-managerial            Wife   White   \n",
       "6   Married-spouse-absent       Other-service   Not-in-family   Black   \n",
       "7      Married-civ-spouse     Exec-managerial         Husband   White   \n",
       "8           Never-married      Prof-specialty   Not-in-family   White   \n",
       "9      Married-civ-spouse     Exec-managerial         Husband   White   \n",
       "\n",
       "       sex  capital-gain  capital-loss  hours-per-week  native-country  salary  \n",
       "0     Male          2174             0              40   United-States   <=50K  \n",
       "1     Male             0             0              13   United-States   <=50K  \n",
       "2     Male             0             0              40   United-States   <=50K  \n",
       "3     Male             0             0              40   United-States   <=50K  \n",
       "4   Female             0             0              40            Cuba   <=50K  \n",
       "5   Female             0             0              40   United-States   <=50K  \n",
       "6   Female             0             0              16         Jamaica   <=50K  \n",
       "7     Male             0             0              45   United-States    >50K  \n",
       "8   Female         14084             0              50   United-States    >50K  \n",
       "9     Male          5178             0              40   United-States    >50K  "
      ]
     },
     "execution_count": 2,
     "metadata": {},
     "output_type": "execute_result"
    }
   ],
   "source": [
    "url = r\"C:\\Users\\79960\\МашинноеОбучение_ннгу_2023\\ML_unn\\salary.csv\"\n",
    "data_raw = pd.read_csv(url)\n",
    "data_raw.head(10)"
   ]
  },
  {
   "cell_type": "markdown",
   "id": "f190e60a",
   "metadata": {},
   "source": [
    "##  **2. Визуализация данных**"
   ]
  },
  {
   "cell_type": "markdown",
   "id": "b78e594a",
   "metadata": {},
   "source": [
    "> В данном разделе мы выполним визуализацию данных, чтобы понять зависимость уровня заработной платы от различных признаков, а также убедиться в наличии или отсутствии выбросов\n"
   ]
  },
  {
   "cell_type": "code",
   "execution_count": 3,
   "id": "12912873",
   "metadata": {},
   "outputs": [
    {
     "name": "stdout",
     "output_type": "stream",
     "text": [
      "<class 'pandas.core.frame.DataFrame'>\n",
      "RangeIndex: 32561 entries, 0 to 32560\n",
      "Data columns (total 15 columns):\n",
      " #   Column          Non-Null Count  Dtype \n",
      "---  ------          --------------  ----- \n",
      " 0   age             32561 non-null  int64 \n",
      " 1   workclass       32561 non-null  object\n",
      " 2   fnlwgt          32561 non-null  int64 \n",
      " 3   education       32561 non-null  object\n",
      " 4   education-num   32561 non-null  int64 \n",
      " 5   marital-status  32561 non-null  object\n",
      " 6   occupation      32561 non-null  object\n",
      " 7   relationship    32561 non-null  object\n",
      " 8   race            32561 non-null  object\n",
      " 9   sex             32561 non-null  object\n",
      " 10  capital-gain    32561 non-null  int64 \n",
      " 11  capital-loss    32561 non-null  int64 \n",
      " 12  hours-per-week  32561 non-null  int64 \n",
      " 13  native-country  32561 non-null  object\n",
      " 14  salary          32561 non-null  object\n",
      "dtypes: int64(6), object(9)\n",
      "memory usage: 3.7+ MB\n"
     ]
    }
   ],
   "source": [
    "dr = data_raw.copy()\n",
    "dr.info()"
   ]
  },
  {
   "cell_type": "markdown",
   "id": "c5ac7d84",
   "metadata": {},
   "source": [
    "*Простроим графическое представление матрицы корреляции*"
   ]
  },
  {
   "cell_type": "code",
   "execution_count": 6,
   "id": "d561c58e",
   "metadata": {},
   "outputs": [
    {
     "data": {
      "image/png": "[encoded data removed]",
      "text/plain": [
       "<Figure size 800x600 with 2 Axes>"
      ]
     },
     "metadata": {},
     "output_type": "display_data"
    }
   ],
   "source": [
    "numeric_parameters = [column for column in dr.columns if dr[column].dtype.name != 'object']\n",
    "data = dr[numeric_parameters]\n",
    "plt.figure(figsize = (8,6))\n",
    "sb.heatmap(data.corr(), annot=True, cmap='Blues')\n",
    "plt.show()"
   ]
  },
  {
   "cell_type": "markdown",
   "id": "3b7e06f7",
   "metadata": {},
   "source": [
    "Как результат, признаки практически не коррелируют друг с другом."
   ]
  },
  {
   "cell_type": "code",
   "execution_count": 7,
   "id": "e89ba975",
   "metadata": {},
   "outputs": [],
   "source": [
    "color = [\"#3498db\",\"#34495e\"]\n",
    "sb.set_palette(color)"
   ]
  },
  {
   "cell_type": "markdown",
   "id": "ff06e7ba",
   "metadata": {},
   "source": [
    "*Посмотрим на какой возраст приходится наибольший заработок*"
   ]
  },
  {
   "cell_type": "code",
   "execution_count": 8,
   "id": "04f31dc4",
   "metadata": {},
   "outputs": [
    {
     "data": {
      "image/png": "[encoded data removed]",
      "text/plain": [
       "<Figure size 1200x800 with 1 Axes>"
      ]
     },
     "metadata": {},
     "output_type": "display_data"
    }
   ],
   "source": [
    "plt.figure(figsize=(12, 8))\n",
    "sb.boxplot(data=dr, y='age', x='salary')\n",
    "plt.show()"
   ]
  },
  {
   "cell_type": "markdown",
   "id": "aedf49a1",
   "metadata": {},
   "source": [
    "Можно увидеть, что среди опрошенных, у которых зарплата более 50К, преобладают люди в возрасте примерно от 35 до 50. Зарплату менее 50К получают люди примерно от 25 до 45."
   ]
  },
  {
   "cell_type": "markdown",
   "id": "2709c18f",
   "metadata": {},
   "source": [
    "*Посмотрим зависимость заработной платы от характеристики, которая обозначает количество людей со схожими признаками*"
   ]
  },
  {
   "cell_type": "code",
   "execution_count": 9,
   "id": "edf0d79f",
   "metadata": {},
   "outputs": [
    {
     "data": {
      "image/png": "[encoded data removed]",
      "text/plain": [
       "<Figure size 1200x800 with 1 Axes>"
      ]
     },
     "metadata": {},
     "output_type": "display_data"
    }
   ],
   "source": [
    "plt.figure(figsize=(12, 8))\n",
    "sb.boxplot(data=dr, y='fnlwgt', x='salary')\n",
    "plt.show()"
   ]
  },
  {
   "cell_type": "code",
   "execution_count": 10,
   "id": "c0b5919e",
   "metadata": {},
   "outputs": [
    {
     "data": {
      "image/png": "[encoded data removed]",
      "text/plain": [
       "<Figure size 1200x800 with 1 Axes>"
      ]
     },
     "metadata": {},
     "output_type": "display_data"
    }
   ],
   "source": [
    "plt.figure(figsize=(12, 8))\n",
    "sb.kdeplot(data=dr, x='fnlwgt', hue='salary')\n",
    "plt.show()"
   ]
  },
  {
   "cell_type": "markdown",
   "id": "66eeed41",
   "metadata": {},
   "source": [
    "Трудно разглядеть зависимость зарплаты от данного признака. Попробуем отбросить его при дальнейшей обработке данных."
   ]
  },
  {
   "cell_type": "markdown",
   "id": "20a3c1fc",
   "metadata": {},
   "source": [
    "*Посмотрим распределение заработной платы по принадлежности к рабочему классу*"
   ]
  },
  {
   "cell_type": "code",
   "execution_count": 11,
   "id": "8e74b941",
   "metadata": {},
   "outputs": [
    {
     "data": {
      "image/png": "[encoded data removed]",
      "text/plain": [
       "<Figure size 1200x800 with 1 Axes>"
      ]
     },
     "metadata": {},
     "output_type": "display_data"
    }
   ],
   "source": [
    "plt.figure(figsize=(12, 8))\n",
    "sb.countplot(data=dr, x='workclass', hue='salary')\n",
    "plt.show()"
   ]
  },
  {
   "cell_type": "markdown",
   "id": "eb053570",
   "metadata": {},
   "source": [
    "Среди людей рабочего класса можем наблюдать наибольшее количество людей, которые получают зарплату более 50К, кроме того данный класс преобладает и среди тех, кто пролучает зарплату менее 50К. "
   ]
  },
  {
   "cell_type": "markdown",
   "id": "0d787fb2",
   "metadata": {},
   "source": [
    "*Посмотрим распределение заработной платы среди уровня образования*"
   ]
  },
  {
   "cell_type": "code",
   "execution_count": 12,
   "id": "515f7c09",
   "metadata": {},
   "outputs": [
    {
     "data": {
      "image/png": "[encoded data removed]",
      "text/plain": [
       "<Figure size 1200x800 with 1 Axes>"
      ]
     },
     "metadata": {},
     "output_type": "display_data"
    }
   ],
   "source": [
    "plt.figure(figsize=(12, 8))\n",
    "sb.countplot(data=dr, y='education', hue='salary')\n",
    "plt.show()"
   ]
  },
  {
   "cell_type": "markdown",
   "id": "30c883d7",
   "metadata": {},
   "source": [
    "## **3. Анализ данных**"
   ]
  },
  {
   "cell_type": "code",
   "execution_count": 13,
   "id": "4b0e647b",
   "metadata": {},
   "outputs": [
    {
     "name": "stdout",
     "output_type": "stream",
     "text": [
      "<class 'pandas.core.frame.DataFrame'>\n",
      "RangeIndex: 32561 entries, 0 to 32560\n",
      "Data columns (total 15 columns):\n",
      " #   Column          Non-Null Count  Dtype \n",
      "---  ------          --------------  ----- \n",
      " 0   age             32561 non-null  int64 \n",
      " 1   workclass       32561 non-null  object\n",
      " 2   fnlwgt          32561 non-null  int64 \n",
      " 3   education       32561 non-null  object\n",
      " 4   education-num   32561 non-null  int64 \n",
      " 5   marital-status  32561 non-null  object\n",
      " 6   occupation      32561 non-null  object\n",
      " 7   relationship    32561 non-null  object\n",
      " 8   race            32561 non-null  object\n",
      " 9   sex             32561 non-null  object\n",
      " 10  capital-gain    32561 non-null  int64 \n",
      " 11  capital-loss    32561 non-null  int64 \n",
      " 12  hours-per-week  32561 non-null  int64 \n",
      " 13  native-country  32561 non-null  object\n",
      " 14  salary          32561 non-null  object\n",
      "dtypes: int64(6), object(9)\n",
      "memory usage: 3.7+ MB\n"
     ]
    }
   ],
   "source": [
    "dr.info()"
   ]
  },
  {
   "cell_type": "code",
   "execution_count": 14,
   "id": "52adbb47",
   "metadata": {},
   "outputs": [
    {
     "data": {
      "text/plain": [
       "age               0\n",
       "workclass         0\n",
       "fnlwgt            0\n",
       "education         0\n",
       "education-num     0\n",
       "marital-status    0\n",
       "occupation        0\n",
       "relationship      0\n",
       "race              0\n",
       "sex               0\n",
       "capital-gain      0\n",
       "capital-loss      0\n",
       "hours-per-week    0\n",
       "native-country    0\n",
       "salary            0\n",
       "dtype: int64"
      ]
     },
     "execution_count": 14,
     "metadata": {},
     "output_type": "execute_result"
    }
   ],
   "source": [
    "dr.isnull().sum()"
   ]
  },
  {
   "cell_type": "markdown",
   "id": "48e3b3e9",
   "metadata": {},
   "source": [
    "*В таблице отсутствуют пропущенные данные числовых признаков!*"
   ]
  },
  {
   "cell_type": "markdown",
   "id": "133d0a4a",
   "metadata": {},
   "source": [
    "### **3.1. Числовые признаки**"
   ]
  },
  {
   "cell_type": "code",
   "execution_count": 15,
   "id": "5ff1a699",
   "metadata": {},
   "outputs": [
    {
     "data": {
      "text/plain": [
       "['age',\n",
       " 'fnlwgt',\n",
       " 'education-num',\n",
       " 'capital-gain',\n",
       " 'capital-loss',\n",
       " 'hours-per-week']"
      ]
     },
     "execution_count": 15,
     "metadata": {},
     "output_type": "execute_result"
    }
   ],
   "source": [
    "numeric_parameters"
   ]
  },
  {
   "cell_type": "code",
   "execution_count": 16,
   "id": "4b10d08a",
   "metadata": {},
   "outputs": [],
   "source": [
    "data = dr[numeric_parameters]"
   ]
  },
  {
   "cell_type": "markdown",
   "id": "5a5e4d23",
   "metadata": {},
   "source": [
    "Имеем **6** числовых признаков. Посмотрим их основные характеристики"
   ]
  },
  {
   "cell_type": "code",
   "execution_count": 17,
   "id": "038466a2",
   "metadata": {},
   "outputs": [
    {
     "data": {
      "text/html": [
       "<div>\n",
       "<style scoped>\n",
       "    .dataframe tbody tr th:only-of-type {\n",
       "        vertical-align: middle;\n",
       "    }\n",
       "\n",
       "    .dataframe tbody tr th {\n",
       "        vertical-align: top;\n",
       "    }\n",
       "\n",
       "    .dataframe thead th {\n",
       "        text-align: right;\n",
       "    }\n",
       "</style>\n",
       "<table border=\"1\" class=\"dataframe\">\n",
       "  <thead>\n",
       "    <tr style=\"text-align: right;\">\n",
       "      <th></th>\n",
       "      <th>age</th>\n",
       "      <th>fnlwgt</th>\n",
       "      <th>education-num</th>\n",
       "      <th>capital-gain</th>\n",
       "      <th>capital-loss</th>\n",
       "      <th>hours-per-week</th>\n",
       "    </tr>\n",
       "  </thead>\n",
       "  <tbody>\n",
       "    <tr>\n",
       "      <th>count</th>\n",
       "      <td>32561.000000</td>\n",
       "      <td>3.256100e+04</td>\n",
       "      <td>32561.000000</td>\n",
       "      <td>32561.000000</td>\n",
       "      <td>32561.000000</td>\n",
       "      <td>32561.000000</td>\n",
       "    </tr>\n",
       "    <tr>\n",
       "      <th>mean</th>\n",
       "      <td>38.581647</td>\n",
       "      <td>1.897784e+05</td>\n",
       "      <td>10.080679</td>\n",
       "      <td>1077.648844</td>\n",
       "      <td>87.303830</td>\n",
       "      <td>40.437456</td>\n",
       "    </tr>\n",
       "    <tr>\n",
       "      <th>std</th>\n",
       "      <td>13.640433</td>\n",
       "      <td>1.055500e+05</td>\n",
       "      <td>2.572720</td>\n",
       "      <td>7385.292085</td>\n",
       "      <td>402.960219</td>\n",
       "      <td>12.347429</td>\n",
       "    </tr>\n",
       "    <tr>\n",
       "      <th>min</th>\n",
       "      <td>17.000000</td>\n",
       "      <td>1.228500e+04</td>\n",
       "      <td>1.000000</td>\n",
       "      <td>0.000000</td>\n",
       "      <td>0.000000</td>\n",
       "      <td>1.000000</td>\n",
       "    </tr>\n",
       "    <tr>\n",
       "      <th>25%</th>\n",
       "      <td>28.000000</td>\n",
       "      <td>1.178270e+05</td>\n",
       "      <td>9.000000</td>\n",
       "      <td>0.000000</td>\n",
       "      <td>0.000000</td>\n",
       "      <td>40.000000</td>\n",
       "    </tr>\n",
       "    <tr>\n",
       "      <th>50%</th>\n",
       "      <td>37.000000</td>\n",
       "      <td>1.783560e+05</td>\n",
       "      <td>10.000000</td>\n",
       "      <td>0.000000</td>\n",
       "      <td>0.000000</td>\n",
       "      <td>40.000000</td>\n",
       "    </tr>\n",
       "    <tr>\n",
       "      <th>75%</th>\n",
       "      <td>48.000000</td>\n",
       "      <td>2.370510e+05</td>\n",
       "      <td>12.000000</td>\n",
       "      <td>0.000000</td>\n",
       "      <td>0.000000</td>\n",
       "      <td>45.000000</td>\n",
       "    </tr>\n",
       "    <tr>\n",
       "      <th>max</th>\n",
       "      <td>90.000000</td>\n",
       "      <td>1.484705e+06</td>\n",
       "      <td>16.000000</td>\n",
       "      <td>99999.000000</td>\n",
       "      <td>4356.000000</td>\n",
       "      <td>99.000000</td>\n",
       "    </tr>\n",
       "  </tbody>\n",
       "</table>\n",
       "</div>"
      ],
      "text/plain": [
       "                age        fnlwgt  education-num  capital-gain  capital-loss  \\\n",
       "count  32561.000000  3.256100e+04   32561.000000  32561.000000  32561.000000   \n",
       "mean      38.581647  1.897784e+05      10.080679   1077.648844     87.303830   \n",
       "std       13.640433  1.055500e+05       2.572720   7385.292085    402.960219   \n",
       "min       17.000000  1.228500e+04       1.000000      0.000000      0.000000   \n",
       "25%       28.000000  1.178270e+05       9.000000      0.000000      0.000000   \n",
       "50%       37.000000  1.783560e+05      10.000000      0.000000      0.000000   \n",
       "75%       48.000000  2.370510e+05      12.000000      0.000000      0.000000   \n",
       "max       90.000000  1.484705e+06      16.000000  99999.000000   4356.000000   \n",
       "\n",
       "       hours-per-week  \n",
       "count    32561.000000  \n",
       "mean        40.437456  \n",
       "std         12.347429  \n",
       "min          1.000000  \n",
       "25%         40.000000  \n",
       "50%         40.000000  \n",
       "75%         45.000000  \n",
       "max         99.000000  "
      ]
     },
     "execution_count": 17,
     "metadata": {},
     "output_type": "execute_result"
    }
   ],
   "source": [
    "dr.describe()"
   ]
  },
  {
   "cell_type": "markdown",
   "id": "5c857685",
   "metadata": {},
   "source": [
    "В таблице представлены основые статистические характеристики:\n",
    "\n",
    "* Количество (`count`)\n",
    "* Медиана (`mean`)\n",
    "* Среднеквадратическое отклонение (`std`)\n",
    "* Минимум (`min`)\n",
    "* Квантиль 25%\n",
    "* Квантиль 50% \n",
    "* Квантиль 75% \n",
    "* Максимум (`max`)\n",
    "\n",
    "На данном этапе можно заметить странное распределение в признаках *capital-gain* и *capital-loss*. Скорее всего это связано с тем, что данные признаки равняются нулю для большиства опрошенных. Все остальные характеристики выглядят достаточно правдоподобно."
   ]
  },
  {
   "cell_type": "markdown",
   "id": "cc33f9ab",
   "metadata": {},
   "source": [
    "### **3.2. Категориальные признаки**"
   ]
  },
  {
   "cell_type": "markdown",
   "id": "ae8dbb60",
   "metadata": {},
   "source": [
    "Выделим среди всех признаков — категориальные"
   ]
  },
  {
   "cell_type": "code",
   "execution_count": 31,
   "id": "05d41249",
   "metadata": {},
   "outputs": [
    {
     "data": {
      "text/plain": [
       "['workclass',\n",
       " 'education',\n",
       " 'marital-status',\n",
       " 'occupation',\n",
       " 'relationship',\n",
       " 'race',\n",
       " 'sex',\n",
       " 'native-country',\n",
       " 'salary']"
      ]
     },
     "execution_count": 31,
     "metadata": {},
     "output_type": "execute_result"
    }
   ],
   "source": [
    "category_parameters = [column for column in dr.columns if dr[column].dtype.name == 'object']\n",
    "category_parameters"
   ]
  },
  {
   "cell_type": "markdown",
   "id": "71d291ba",
   "metadata": {},
   "source": [
    "Имеем **9** категориальных признаков. Рассмотрим распределение каждого из данных признаков."
   ]
  },
  {
   "cell_type": "code",
   "execution_count": 32,
   "id": "47a5f019",
   "metadata": {},
   "outputs": [
    {
     "name": "stdout",
     "output_type": "stream",
     "text": [
      "workclass DISTRIBUTION\n",
      "workclass\n",
      " Private             22696\n",
      " Self-emp-not-inc     2541\n",
      " Local-gov            2093\n",
      " ?                    1836\n",
      " State-gov            1298\n",
      " Self-emp-inc         1116\n",
      " Federal-gov           960\n",
      " Without-pay            14\n",
      " Never-worked            7\n",
      "Name: count, dtype: int64\n",
      "\n",
      "education DISTRIBUTION\n",
      "education\n",
      " HS-grad         10501\n",
      " Some-college     7291\n",
      " Bachelors        5355\n",
      " Masters          1723\n",
      " Assoc-voc        1382\n",
      " 11th             1175\n",
      " Assoc-acdm       1067\n",
      " 10th              933\n",
      " 7th-8th           646\n",
      " Prof-school       576\n",
      " 9th               514\n",
      " 12th              433\n",
      " Doctorate         413\n",
      " 5th-6th           333\n",
      " 1st-4th           168\n",
      " Preschool          51\n",
      "Name: count, dtype: int64\n",
      "\n",
      "marital-status DISTRIBUTION\n",
      "marital-status\n",
      " Married-civ-spouse       14976\n",
      " Never-married            10683\n",
      " Divorced                  4443\n",
      " Separated                 1025\n",
      " Widowed                    993\n",
      " Married-spouse-absent      418\n",
      " Married-AF-spouse           23\n",
      "Name: count, dtype: int64\n",
      "\n",
      "occupation DISTRIBUTION\n",
      "occupation\n",
      " Prof-specialty       4140\n",
      " Craft-repair         4099\n",
      " Exec-managerial      4066\n",
      " Adm-clerical         3770\n",
      " Sales                3650\n",
      " Other-service        3295\n",
      " Machine-op-inspct    2002\n",
      " ?                    1843\n",
      " Transport-moving     1597\n",
      " Handlers-cleaners    1370\n",
      " Farming-fishing       994\n",
      " Tech-support          928\n",
      " Protective-serv       649\n",
      " Priv-house-serv       149\n",
      " Armed-Forces            9\n",
      "Name: count, dtype: int64\n",
      "\n",
      "relationship DISTRIBUTION\n",
      "relationship\n",
      " Husband           13193\n",
      " Not-in-family      8305\n",
      " Own-child          5068\n",
      " Unmarried          3446\n",
      " Wife               1568\n",
      " Other-relative      981\n",
      "Name: count, dtype: int64\n",
      "\n",
      "race DISTRIBUTION\n",
      "race\n",
      " White                 27816\n",
      " Black                  3124\n",
      " Asian-Pac-Islander     1039\n",
      " Amer-Indian-Eskimo      311\n",
      " Other                   271\n",
      "Name: count, dtype: int64\n",
      "\n",
      "sex DISTRIBUTION\n",
      "sex\n",
      " Male      21790\n",
      " Female    10771\n",
      "Name: count, dtype: int64\n",
      "\n",
      "native-country DISTRIBUTION\n",
      "native-country\n",
      " United-States                 29170\n",
      " Mexico                          643\n",
      " ?                               583\n",
      " Philippines                     198\n",
      " Germany                         137\n",
      " Canada                          121\n",
      " Puerto-Rico                     114\n",
      " El-Salvador                     106\n",
      " India                           100\n",
      " Cuba                             95\n",
      " England                          90\n",
      " Jamaica                          81\n",
      " South                            80\n",
      " China                            75\n",
      " Italy                            73\n",
      " Dominican-Republic               70\n",
      " Vietnam                          67\n",
      " Guatemala                        64\n",
      " Japan                            62\n",
      " Poland                           60\n",
      " Columbia                         59\n",
      " Taiwan                           51\n",
      " Haiti                            44\n",
      " Iran                             43\n",
      " Portugal                         37\n",
      " Nicaragua                        34\n",
      " Peru                             31\n",
      " France                           29\n",
      " Greece                           29\n",
      " Ecuador                          28\n",
      " Ireland                          24\n",
      " Hong                             20\n",
      " Cambodia                         19\n",
      " Trinadad&Tobago                  19\n",
      " Laos                             18\n",
      " Thailand                         18\n",
      " Yugoslavia                       16\n",
      " Outlying-US(Guam-USVI-etc)       14\n",
      " Honduras                         13\n",
      " Hungary                          13\n",
      " Scotland                         12\n",
      " Holand-Netherlands                1\n",
      "Name: count, dtype: int64\n",
      "\n",
      "salary DISTRIBUTION\n",
      "salary\n",
      " <=50K    24720\n",
      " >50K      7841\n",
      "Name: count, dtype: int64\n",
      "\n"
     ]
    }
   ],
   "source": [
    "for col in [column for column in dr.columns if dr[column].dtype.name == 'object']:\n",
    "    print(f\"{col} DISTRIBUTION\")\n",
    "    print(dr[col].value_counts())\n",
    "    print()"
   ]
  },
  {
   "cell_type": "markdown",
   "id": "37586399",
   "metadata": {},
   "source": [
    "Просматривая полученные значения, можно заметить, что среди категориальных признаков **workclass**, **occupation**, **native-country** имеются пропущенные данные, которые обозначаются **' ?'**. Произведем замену данных значений на NaN (Not a Number)."
   ]
  },
  {
   "cell_type": "code",
   "execution_count": 33,
   "id": "9719d68e",
   "metadata": {},
   "outputs": [],
   "source": [
    "dr['workclass'].replace(' ?', np.nan, inplace=True)\n",
    "dr['occupation'].replace(' ?', np.nan, inplace=True)\n",
    "dr['native-country'].replace(' ?', np.nan, inplace=True)"
   ]
  },
  {
   "cell_type": "markdown",
   "id": "f84edd7b",
   "metadata": {},
   "source": [
    "##  **4. Борьба с пропущенными значениями**"
   ]
  },
  {
   "cell_type": "code",
   "execution_count": 18,
   "id": "5b54c0d8",
   "metadata": {},
   "outputs": [
    {
     "data": {
      "text/plain": [
       "age               0\n",
       "workclass         0\n",
       "fnlwgt            0\n",
       "education         0\n",
       "education-num     0\n",
       "marital-status    0\n",
       "occupation        0\n",
       "relationship      0\n",
       "race              0\n",
       "sex               0\n",
       "capital-gain      0\n",
       "capital-loss      0\n",
       "hours-per-week    0\n",
       "native-country    0\n",
       "salary            0\n",
       "dtype: int64"
      ]
     },
     "execution_count": 18,
     "metadata": {},
     "output_type": "execute_result"
    }
   ],
   "source": [
    "dr.isnull().sum()"
   ]
  },
  {
   "cell_type": "markdown",
   "id": "0c4b3519",
   "metadata": {},
   "source": [
    "Существуют различные способы борьбы с пропусками. Самый примитивный — просто удалить те строки, в которых встречаются пропущенные значения. Так как датасет содержит не особо большое количество строк, то удаление пропущенных данных может привести к неточности дальнейшего исследования, поэтому способом заполнения пропусков будет *поиск наиболее популярных значений среди данного признака.* Посмотрим на часть датасета с пропусками:"
   ]
  },
  {
   "cell_type": "code",
   "execution_count": 19,
   "id": "79f2d5de",
   "metadata": {},
   "outputs": [
    {
     "data": {
      "text/html": [
       "<div>\n",
       "<style scoped>\n",
       "    .dataframe tbody tr th:only-of-type {\n",
       "        vertical-align: middle;\n",
       "    }\n",
       "\n",
       "    .dataframe tbody tr th {\n",
       "        vertical-align: top;\n",
       "    }\n",
       "\n",
       "    .dataframe thead th {\n",
       "        text-align: right;\n",
       "    }\n",
       "</style>\n",
       "<table border=\"1\" class=\"dataframe\">\n",
       "  <thead>\n",
       "    <tr style=\"text-align: right;\">\n",
       "      <th></th>\n",
       "      <th>age</th>\n",
       "      <th>workclass</th>\n",
       "      <th>fnlwgt</th>\n",
       "      <th>education</th>\n",
       "      <th>education-num</th>\n",
       "      <th>marital-status</th>\n",
       "      <th>occupation</th>\n",
       "      <th>relationship</th>\n",
       "      <th>race</th>\n",
       "      <th>sex</th>\n",
       "      <th>capital-gain</th>\n",
       "      <th>capital-loss</th>\n",
       "      <th>hours-per-week</th>\n",
       "      <th>native-country</th>\n",
       "      <th>salary</th>\n",
       "    </tr>\n",
       "  </thead>\n",
       "  <tbody>\n",
       "  </tbody>\n",
       "</table>\n",
       "</div>"
      ],
      "text/plain": [
       "Empty DataFrame\n",
       "Columns: [age, workclass, fnlwgt, education, education-num, marital-status, occupation, relationship, race, sex, capital-gain, capital-loss, hours-per-week, native-country, salary]\n",
       "Index: []"
      ]
     },
     "execution_count": 19,
     "metadata": {},
     "output_type": "execute_result"
    }
   ],
   "source": [
    "dr_with_nan = dr[dr['workclass'].isnull()]\n",
    "dr_with_nan.head(10)"
   ]
  },
  {
   "cell_type": "markdown",
   "id": "13a5837d",
   "metadata": {},
   "source": [
    "В данной выборке можно разглядеть, что везде, где отсутствует признак workclass, также отсутствует и признак occupation. Возможно между ними имеется некая связь. Поэтому найдем наиболее популярное значение признака **workclass** и затем по найденному значению выберем самое популярное среди **occupation**. Значения для признака **native-country**\tзаполним аналогично — наиболее популярным."
   ]
  },
  {
   "cell_type": "code",
   "execution_count": 20,
   "id": "b46576f6",
   "metadata": {},
   "outputs": [
    {
     "data": {
      "text/plain": [
       "' Private'"
      ]
     },
     "execution_count": 20,
     "metadata": {},
     "output_type": "execute_result"
    }
   ],
   "source": [
    "dr['workclass'].mode()[0]"
   ]
  },
  {
   "cell_type": "code",
   "execution_count": 21,
   "id": "70bb3646",
   "metadata": {},
   "outputs": [
    {
     "data": {
      "text/plain": [
       "' Craft-repair'"
      ]
     },
     "execution_count": 21,
     "metadata": {},
     "output_type": "execute_result"
    }
   ],
   "source": [
    "dr['occupation'][dr['workclass'] == dr['workclass'].mode()[0]].mode()[0]"
   ]
  },
  {
   "cell_type": "code",
   "execution_count": 22,
   "id": "71aa35ae",
   "metadata": {},
   "outputs": [
    {
     "data": {
      "text/plain": [
       "' United-States'"
      ]
     },
     "execution_count": 22,
     "metadata": {},
     "output_type": "execute_result"
    }
   ],
   "source": [
    "dr['native-country'].mode()[0]"
   ]
  },
  {
   "cell_type": "code",
   "execution_count": 23,
   "id": "c6652482",
   "metadata": {},
   "outputs": [],
   "source": [
    "dr['workclass'].fillna(dr['workclass'].mode()[0], inplace=True)\n",
    "dr['occupation'].fillna(dr['occupation'][dr['workclass'] == dr['workclass'].mode()[0]].mode()[0], inplace=True)\n",
    "dr['native-country'].fillna(dr['native-country'].mode()[0], inplace=True)"
   ]
  },
  {
   "cell_type": "code",
   "execution_count": 24,
   "id": "12d3b4e4",
   "metadata": {},
   "outputs": [
    {
     "data": {
      "text/plain": [
       "age               0\n",
       "workclass         0\n",
       "fnlwgt            0\n",
       "education         0\n",
       "education-num     0\n",
       "marital-status    0\n",
       "occupation        0\n",
       "relationship      0\n",
       "race              0\n",
       "sex               0\n",
       "capital-gain      0\n",
       "capital-loss      0\n",
       "hours-per-week    0\n",
       "native-country    0\n",
       "salary            0\n",
       "dtype: int64"
      ]
     },
     "execution_count": 24,
     "metadata": {},
     "output_type": "execute_result"
    }
   ],
   "source": [
    "dr.isnull().sum()"
   ]
  },
  {
   "cell_type": "markdown",
   "id": "02f86e38",
   "metadata": {},
   "source": [
    "##  **5. Обработка данных**"
   ]
  },
  {
   "cell_type": "markdown",
   "id": "d5de0417",
   "metadata": {},
   "source": [
    "#### **5.1. Обработка числовых признаков**"
   ]
  },
  {
   "cell_type": "code",
   "execution_count": 25,
   "id": "28b6eac4",
   "metadata": {},
   "outputs": [
    {
     "data": {
      "text/plain": [
       "['age',\n",
       " 'fnlwgt',\n",
       " 'education-num',\n",
       " 'capital-gain',\n",
       " 'capital-loss',\n",
       " 'hours-per-week']"
      ]
     },
     "execution_count": 25,
     "metadata": {},
     "output_type": "execute_result"
    }
   ],
   "source": [
    "numeric_parameters"
   ]
  },
  {
   "cell_type": "markdown",
   "id": "6c94160a",
   "metadata": {},
   "source": [
    "Отбросим числовые признаки, которые имеют слишком большое число выбросов (*capital-gain*, *capital-gain*) или дублируют друг друга (*education-num*)"
   ]
  },
  {
   "cell_type": "code",
   "execution_count": 26,
   "id": "53465ec5",
   "metadata": {},
   "outputs": [],
   "source": [
    "dr.drop('fnlwgt', axis=1, inplace=True)\n",
    "dr.drop('education-num', axis=1, inplace=True)\n",
    "dr.drop('capital-gain', axis=1, inplace=True)\n",
    "dr.drop('capital-loss', axis=1, inplace=True)"
   ]
  },
  {
   "cell_type": "markdown",
   "id": "d6f227ec",
   "metadata": {},
   "source": [
    "К оставшимся числовым признакам применим **нормализацию**. В данном случае воспользуемся методом `MinMaxScaler()` из библиотеки scikit-learn, который нормализует значения, приводя их к диапазону от 0 до 1"
   ]
  },
  {
   "cell_type": "code",
   "execution_count": 27,
   "id": "960d0e9f",
   "metadata": {},
   "outputs": [
    {
     "data": {
      "text/plain": [
       "['age', 'hours-per-week']"
      ]
     },
     "execution_count": 27,
     "metadata": {},
     "output_type": "execute_result"
    }
   ],
   "source": [
    "remaining_numeric_parameters = [column for column in dr.columns if dr[column].dtype.name != 'object']\n",
    "remaining_numeric_parameters"
   ]
  },
  {
   "cell_type": "code",
   "execution_count": 28,
   "id": "ae542970",
   "metadata": {},
   "outputs": [],
   "source": [
    "from sklearn.preprocessing import MinMaxScaler\n",
    "\n",
    "scaler = MinMaxScaler()\n",
    "dr[remaining_numeric_parameters] = scaler.fit_transform(dr[remaining_numeric_parameters])"
   ]
  },
  {
   "cell_type": "code",
   "execution_count": 29,
   "id": "0508dc8b",
   "metadata": {},
   "outputs": [
    {
     "data": {
      "text/html": [
       "<div>\n",
       "<style scoped>\n",
       "    .dataframe tbody tr th:only-of-type {\n",
       "        vertical-align: middle;\n",
       "    }\n",
       "\n",
       "    .dataframe tbody tr th {\n",
       "        vertical-align: top;\n",
       "    }\n",
       "\n",
       "    .dataframe thead th {\n",
       "        text-align: right;\n",
       "    }\n",
       "</style>\n",
       "<table border=\"1\" class=\"dataframe\">\n",
       "  <thead>\n",
       "    <tr style=\"text-align: right;\">\n",
       "      <th></th>\n",
       "      <th>age</th>\n",
       "      <th>hours-per-week</th>\n",
       "    </tr>\n",
       "  </thead>\n",
       "  <tbody>\n",
       "    <tr>\n",
       "      <th>count</th>\n",
       "      <td>32561.000000</td>\n",
       "      <td>32561.000000</td>\n",
       "    </tr>\n",
       "    <tr>\n",
       "      <th>mean</th>\n",
       "      <td>0.295639</td>\n",
       "      <td>0.402423</td>\n",
       "    </tr>\n",
       "    <tr>\n",
       "      <th>std</th>\n",
       "      <td>0.186855</td>\n",
       "      <td>0.125994</td>\n",
       "    </tr>\n",
       "    <tr>\n",
       "      <th>min</th>\n",
       "      <td>0.000000</td>\n",
       "      <td>0.000000</td>\n",
       "    </tr>\n",
       "    <tr>\n",
       "      <th>25%</th>\n",
       "      <td>0.150685</td>\n",
       "      <td>0.397959</td>\n",
       "    </tr>\n",
       "    <tr>\n",
       "      <th>50%</th>\n",
       "      <td>0.273973</td>\n",
       "      <td>0.397959</td>\n",
       "    </tr>\n",
       "    <tr>\n",
       "      <th>75%</th>\n",
       "      <td>0.424658</td>\n",
       "      <td>0.448980</td>\n",
       "    </tr>\n",
       "    <tr>\n",
       "      <th>max</th>\n",
       "      <td>1.000000</td>\n",
       "      <td>1.000000</td>\n",
       "    </tr>\n",
       "  </tbody>\n",
       "</table>\n",
       "</div>"
      ],
      "text/plain": [
       "                age  hours-per-week\n",
       "count  32561.000000    32561.000000\n",
       "mean       0.295639        0.402423\n",
       "std        0.186855        0.125994\n",
       "min        0.000000        0.000000\n",
       "25%        0.150685        0.397959\n",
       "50%        0.273973        0.397959\n",
       "75%        0.424658        0.448980\n",
       "max        1.000000        1.000000"
      ]
     },
     "execution_count": 29,
     "metadata": {},
     "output_type": "execute_result"
    }
   ],
   "source": [
    "dr.describe()"
   ]
  },
  {
   "cell_type": "markdown",
   "id": "6742f2c2",
   "metadata": {},
   "source": [
    "#### **5.2. Обработка категориальных признаков**"
   ]
  },
  {
   "cell_type": "code",
   "execution_count": 34,
   "id": "f769584e",
   "metadata": {},
   "outputs": [
    {
     "data": {
      "text/plain": [
       "['workclass',\n",
       " 'education',\n",
       " 'marital-status',\n",
       " 'occupation',\n",
       " 'relationship',\n",
       " 'race',\n",
       " 'sex',\n",
       " 'native-country',\n",
       " 'salary']"
      ]
     },
     "execution_count": 34,
     "metadata": {},
     "output_type": "execute_result"
    }
   ],
   "source": [
    "category_parameters"
   ]
  },
  {
   "cell_type": "markdown",
   "id": "9f065f78",
   "metadata": {},
   "source": [
    "Найдем среди категориальных признаков те, которые можно отнести к бинарным и заменим их значения на *0* или *1* соответственно"
   ]
  },
  {
   "cell_type": "code",
   "execution_count": 35,
   "id": "02fcd79f",
   "metadata": {},
   "outputs": [
    {
     "data": {
      "text/plain": [
       "['sex', 'salary']"
      ]
     },
     "execution_count": 35,
     "metadata": {},
     "output_type": "execute_result"
    }
   ],
   "source": [
    "binary_category_parameters = [column for column in category_parameters if len(dr[column].unique()) == 2]\n",
    "binary_category_parameters"
   ]
  },
  {
   "cell_type": "code",
   "execution_count": 36,
   "id": "1846c496",
   "metadata": {},
   "outputs": [],
   "source": [
    "for column in binary_category_parameters:\n",
    "  dr[column] = dr[column].map({dr[column].unique()[0]: 0, dr[column].unique()[1]: 1})"
   ]
  },
  {
   "cell_type": "markdown",
   "id": "c8dff677",
   "metadata": {},
   "source": [
    "Теперь выберем признаки, которые нельзя классифицировать как бинарные"
   ]
  },
  {
   "cell_type": "code",
   "execution_count": 37,
   "id": "c93e11d0",
   "metadata": {},
   "outputs": [
    {
     "data": {
      "text/plain": [
       "['workclass',\n",
       " 'education',\n",
       " 'marital-status',\n",
       " 'occupation',\n",
       " 'relationship',\n",
       " 'race',\n",
       " 'native-country']"
      ]
     },
     "execution_count": 37,
     "metadata": {},
     "output_type": "execute_result"
    }
   ],
   "source": [
    "no_binary_category_parameters = [column for column in category_parameters if column not in binary_category_parameters]\n",
    "no_binary_category_parameters"
   ]
  },
  {
   "cell_type": "markdown",
   "id": "efd399e2",
   "metadata": {},
   "source": [
    "Применим к ним **векторизацию** — каждый из категориальных признаков, который нельзя отнести к бинарным, заменим на столько новых булевых признаков, сколько существует возможных категорий у данного признака). Данную функциональность представляет метод `get_dummies` из библиотеки Pandas."
   ]
  },
  {
   "cell_type": "code",
   "execution_count": 38,
   "id": "075e7fa4",
   "metadata": {},
   "outputs": [
    {
     "name": "stdout",
     "output_type": "stream",
     "text": [
      "<class 'pandas.core.frame.DataFrame'>\n",
      "RangeIndex: 32561 entries, 0 to 32560\n",
      "Data columns (total 94 columns):\n",
      " #   Column                                      Non-Null Count  Dtype  \n",
      "---  ------                                      --------------  -----  \n",
      " 0   age                                         32561 non-null  float64\n",
      " 1   sex                                         32561 non-null  int64  \n",
      " 2   hours-per-week                              32561 non-null  float64\n",
      " 3   salary                                      32561 non-null  int64  \n",
      " 4   workclass_ Local-gov                        32561 non-null  bool   \n",
      " 5   workclass_ Never-worked                     32561 non-null  bool   \n",
      " 6   workclass_ Private                          32561 non-null  bool   \n",
      " 7   workclass_ Self-emp-inc                     32561 non-null  bool   \n",
      " 8   workclass_ Self-emp-not-inc                 32561 non-null  bool   \n",
      " 9   workclass_ State-gov                        32561 non-null  bool   \n",
      " 10  workclass_ Without-pay                      32561 non-null  bool   \n",
      " 11  education_ 11th                             32561 non-null  bool   \n",
      " 12  education_ 12th                             32561 non-null  bool   \n",
      " 13  education_ 1st-4th                          32561 non-null  bool   \n",
      " 14  education_ 5th-6th                          32561 non-null  bool   \n",
      " 15  education_ 7th-8th                          32561 non-null  bool   \n",
      " 16  education_ 9th                              32561 non-null  bool   \n",
      " 17  education_ Assoc-acdm                       32561 non-null  bool   \n",
      " 18  education_ Assoc-voc                        32561 non-null  bool   \n",
      " 19  education_ Bachelors                        32561 non-null  bool   \n",
      " 20  education_ Doctorate                        32561 non-null  bool   \n",
      " 21  education_ HS-grad                          32561 non-null  bool   \n",
      " 22  education_ Masters                          32561 non-null  bool   \n",
      " 23  education_ Preschool                        32561 non-null  bool   \n",
      " 24  education_ Prof-school                      32561 non-null  bool   \n",
      " 25  education_ Some-college                     32561 non-null  bool   \n",
      " 26  marital-status_ Married-AF-spouse           32561 non-null  bool   \n",
      " 27  marital-status_ Married-civ-spouse          32561 non-null  bool   \n",
      " 28  marital-status_ Married-spouse-absent       32561 non-null  bool   \n",
      " 29  marital-status_ Never-married               32561 non-null  bool   \n",
      " 30  marital-status_ Separated                   32561 non-null  bool   \n",
      " 31  marital-status_ Widowed                     32561 non-null  bool   \n",
      " 32  occupation_ Armed-Forces                    32561 non-null  bool   \n",
      " 33  occupation_ Craft-repair                    32561 non-null  bool   \n",
      " 34  occupation_ Exec-managerial                 32561 non-null  bool   \n",
      " 35  occupation_ Farming-fishing                 32561 non-null  bool   \n",
      " 36  occupation_ Handlers-cleaners               32561 non-null  bool   \n",
      " 37  occupation_ Machine-op-inspct               32561 non-null  bool   \n",
      " 38  occupation_ Other-service                   32561 non-null  bool   \n",
      " 39  occupation_ Priv-house-serv                 32561 non-null  bool   \n",
      " 40  occupation_ Prof-specialty                  32561 non-null  bool   \n",
      " 41  occupation_ Protective-serv                 32561 non-null  bool   \n",
      " 42  occupation_ Sales                           32561 non-null  bool   \n",
      " 43  occupation_ Tech-support                    32561 non-null  bool   \n",
      " 44  occupation_ Transport-moving                32561 non-null  bool   \n",
      " 45  relationship_ Not-in-family                 32561 non-null  bool   \n",
      " 46  relationship_ Other-relative                32561 non-null  bool   \n",
      " 47  relationship_ Own-child                     32561 non-null  bool   \n",
      " 48  relationship_ Unmarried                     32561 non-null  bool   \n",
      " 49  relationship_ Wife                          32561 non-null  bool   \n",
      " 50  race_ Asian-Pac-Islander                    32561 non-null  bool   \n",
      " 51  race_ Black                                 32561 non-null  bool   \n",
      " 52  race_ Other                                 32561 non-null  bool   \n",
      " 53  race_ White                                 32561 non-null  bool   \n",
      " 54  native-country_ Canada                      32561 non-null  bool   \n",
      " 55  native-country_ China                       32561 non-null  bool   \n",
      " 56  native-country_ Columbia                    32561 non-null  bool   \n",
      " 57  native-country_ Cuba                        32561 non-null  bool   \n",
      " 58  native-country_ Dominican-Republic          32561 non-null  bool   \n",
      " 59  native-country_ Ecuador                     32561 non-null  bool   \n",
      " 60  native-country_ El-Salvador                 32561 non-null  bool   \n",
      " 61  native-country_ England                     32561 non-null  bool   \n",
      " 62  native-country_ France                      32561 non-null  bool   \n",
      " 63  native-country_ Germany                     32561 non-null  bool   \n",
      " 64  native-country_ Greece                      32561 non-null  bool   \n",
      " 65  native-country_ Guatemala                   32561 non-null  bool   \n",
      " 66  native-country_ Haiti                       32561 non-null  bool   \n",
      " 67  native-country_ Holand-Netherlands          32561 non-null  bool   \n",
      " 68  native-country_ Honduras                    32561 non-null  bool   \n",
      " 69  native-country_ Hong                        32561 non-null  bool   \n",
      " 70  native-country_ Hungary                     32561 non-null  bool   \n",
      " 71  native-country_ India                       32561 non-null  bool   \n",
      " 72  native-country_ Iran                        32561 non-null  bool   \n",
      " 73  native-country_ Ireland                     32561 non-null  bool   \n",
      " 74  native-country_ Italy                       32561 non-null  bool   \n",
      " 75  native-country_ Jamaica                     32561 non-null  bool   \n",
      " 76  native-country_ Japan                       32561 non-null  bool   \n",
      " 77  native-country_ Laos                        32561 non-null  bool   \n",
      " 78  native-country_ Mexico                      32561 non-null  bool   \n",
      " 79  native-country_ Nicaragua                   32561 non-null  bool   \n",
      " 80  native-country_ Outlying-US(Guam-USVI-etc)  32561 non-null  bool   \n",
      " 81  native-country_ Peru                        32561 non-null  bool   \n",
      " 82  native-country_ Philippines                 32561 non-null  bool   \n",
      " 83  native-country_ Poland                      32561 non-null  bool   \n",
      " 84  native-country_ Portugal                    32561 non-null  bool   \n",
      " 85  native-country_ Puerto-Rico                 32561 non-null  bool   \n",
      " 86  native-country_ Scotland                    32561 non-null  bool   \n",
      " 87  native-country_ South                       32561 non-null  bool   \n",
      " 88  native-country_ Taiwan                      32561 non-null  bool   \n",
      " 89  native-country_ Thailand                    32561 non-null  bool   \n",
      " 90  native-country_ Trinadad&Tobago             32561 non-null  bool   \n",
      " 91  native-country_ United-States               32561 non-null  bool   \n",
      " 92  native-country_ Vietnam                     32561 non-null  bool   \n",
      " 93  native-country_ Yugoslavia                  32561 non-null  bool   \n",
      "dtypes: bool(90), float64(2), int64(2)\n",
      "memory usage: 3.8 MB\n"
     ]
    }
   ],
   "source": [
    "dr=pd.get_dummies(dr, columns=no_binary_category_parameters, drop_first=True)\n",
    "dr.info()"
   ]
  },
  {
   "cell_type": "markdown",
   "id": "be2145bc",
   "metadata": {},
   "source": [
    "#### **5.2. Устранение несбалансированности**"
   ]
  },
  {
   "cell_type": "code",
   "execution_count": 39,
   "id": "afec4fe2",
   "metadata": {},
   "outputs": [
    {
     "data": {
      "image/png": "[encoded data removed]",
      "text/plain": [
       "<Figure size 800x800 with 1 Axes>"
      ]
     },
     "metadata": {},
     "output_type": "display_data"
    }
   ],
   "source": [
    "plt.figure(figsize=(8, 8))\n",
    "colors = sb.color_palette('pastel')\n",
    "labels = ['<=50K', \">50K\"]\n",
    "plt.pie([dr['salary'].value_counts()[0], dr['salary'].value_counts()[1]], labels=labels, colors=colors, autopct='%.0f%%')\n",
    "plt.show()"
   ]
  },
  {
   "cell_type": "code",
   "execution_count": 40,
   "id": "b24781e1",
   "metadata": {
    "scrolled": true
   },
   "outputs": [
    {
     "name": "stdout",
     "output_type": "stream",
     "text": [
      "Retrieving notices: ...working... done\n",
      "Channels:\n",
      " - conda-forge\n",
      " - defaults\n",
      "Platform: win-64\n",
      "Collecting package metadata (repodata.json): ...working... done\n",
      "Solving environment: ...working... done\n",
      "\n",
      "## Package Plan ##\n",
      "\n",
      "  environment location: D:\\anaconda3\n",
      "\n",
      "  added / updated specs:\n",
      "    - imbalanced-learn\n",
      "\n",
      "\n",
      "The following packages will be downloaded:\n",
      "\n",
      "    package                    |            build\n",
      "    ---------------------------|-----------------\n",
      "    ca-certificates-2024.8.30  |       h56e8100_0         155 KB  conda-forge\n",
      "    certifi-2024.8.30          |     pyhd8ed1ab_0         160 KB  conda-forge\n",
      "    imbalanced-learn-0.12.4    |     pyhd8ed1ab_0         155 KB  conda-forge\n",
      "    openssl-3.3.2              |       h2466b09_0         8.0 MB  conda-forge\n",
      "    ucrt-10.0.22621.0          |       h57928b3_1         547 KB  conda-forge\n",
      "    vc14_runtime-14.40.33810   |      hcc2c482_22         733 KB  conda-forge\n",
      "    vs2015_runtime-14.40.33810 |      h3bf8584_22          17 KB  conda-forge\n",
      "    ------------------------------------------------------------\n",
      "                                           Total:         9.7 MB\n",
      "\n",
      "The following NEW packages will be INSTALLED:\n",
      "\n",
      "  distro             conda-forge/noarch::distro-1.9.0-pyhd8ed1ab_0 \n",
      "  ucrt               conda-forge/win-64::ucrt-10.0.22621.0-h57928b3_1 \n",
      "  vc14_runtime       conda-forge/win-64::vc14_runtime-14.40.33810-hcc2c482_22 \n",
      "\n",
      "The following packages will be UPDATED:\n",
      "\n",
      "  ca-certificates                     2023.11.17-h56e8100_0 --> 2024.8.30-h56e8100_0 \n",
      "  certifi                           2023.11.17-pyhd8ed1ab_0 --> 2024.8.30-pyhd8ed1ab_0 \n",
      "  conda                              23.10.0-py39hcbf5309_1 --> 23.11.0-py39hcbf5309_1 \n",
      "  imbalanced-learn                      0.11.0-pyhd8ed1ab_0 --> 0.12.4-pyhd8ed1ab_0 \n",
      "  openssl              pkgs/main::openssl-3.0.12-h2bbff1b_0 --> conda-forge::openssl-3.3.2-h2466b09_0 \n",
      "  vs2015_runtime     pkgs/main::vs2015_runtime-14.27.29016~ --> conda-forge::vs2015_runtime-14.40.33810-h3bf8584_22 \n",
      "\n",
      "\n",
      "\n",
      "Downloading and Extracting Packages: ...working... done\n",
      "Preparing transaction: ...working... done\n",
      "Verifying transaction: ...working... done\n",
      "Executing transaction: ...working... done\n",
      "\n",
      "Note: you may need to restart the kernel to use updated packages.\n"
     ]
    }
   ],
   "source": [
    "conda install -c conda-forge imbalanced-learn"
   ]
  },
  {
   "cell_type": "code",
   "execution_count": 41,
   "id": "c5f623dd",
   "metadata": {},
   "outputs": [],
   "source": [
    "from imblearn.over_sampling import SMOTE"
   ]
  },
  {
   "cell_type": "code",
   "execution_count": 42,
   "id": "3884acfe",
   "metadata": {},
   "outputs": [],
   "source": [
    "X = dr.iloc[:, dr.columns != 'salary']\n",
    "y = dr['salary']\n",
    "\n",
    "smote=SMOTE()\n",
    "X_resampled, y_resampled = smote.fit_resample(X, y)"
   ]
  },
  {
   "cell_type": "code",
   "execution_count": 43,
   "id": "9ebdf650",
   "metadata": {},
   "outputs": [
    {
     "data": {
      "image/png": "[encoded data removed]",
      "text/plain": [
       "<Figure size 800x800 with 1 Axes>"
      ]
     },
     "metadata": {},
     "output_type": "display_data"
    }
   ],
   "source": [
    "plt.figure(figsize=(8, 8))\n",
    "colors = sb.color_palette('pastel')\n",
    "labels = ['<=50K', \">50K\"]\n",
    "plt.pie([y_resampled.value_counts()[0], y_resampled.value_counts()[1]], labels=labels, colors=colors, autopct='%.0f%%')\n",
    "plt.show()"
   ]
  },
  {
   "cell_type": "code",
   "execution_count": null,
   "id": "a9b03d15",
   "metadata": {},
   "outputs": [],
   "source": []
  },
  {
   "cell_type": "code",
   "execution_count": null,
   "id": "eb75a5cb",
   "metadata": {},
   "outputs": [],
   "source": []
  }
 ],
 "metadata": {
  "kernelspec": {
   "display_name": "Python 3 (ipykernel)",
   "language": "python",
   "name": "python3"
  },
  "language_info": {
   "codemirror_mode": {
    "name": "ipython",
    "version": 3
   },
   "file_extension": ".py",
   "mimetype": "text/x-python",
   "name": "python",
   "nbconvert_exporter": "python",
   "pygments_lexer": "ipython3",
   "version": "3.9.18"
  }
 },
 "nbformat": 4,
 "nbformat_minor": 5
}
